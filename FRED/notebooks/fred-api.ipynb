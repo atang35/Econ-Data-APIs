{
 "cells": [
  {
   "cell_type": "code",
   "execution_count": 6,
   "metadata": {},
   "outputs": [],
   "source": [
    "\"\"\"_summary_\n",
    "- this will source the python script \n",
    "- the python script has requisite python libraries \n",
    "- the class and functions are in the fred-api.py scripts\n",
    "\"\"\"\n",
    "%run ../scripts/fred-api.py"
   ]
  },
  {
   "cell_type": "code",
   "execution_count": null,
   "metadata": {},
   "outputs": [],
   "source": [
    "\"\"\"\n",
    "- remember to got register and get your API key from the website\n",
    "- \n",
    "\"\"\"\n",
    "# fred = FredAPI('your_api_key')\n",
    "\n",
    "with open('db_credentials.json', 'r') as file:\n",
    "    db_credentials = json.load(file)"
   ]
  }
 ],
 "metadata": {
  "kernelspec": {
   "display_name": "env",
   "language": "python",
   "name": "python3"
  },
  "language_info": {
   "codemirror_mode": {
    "name": "ipython",
    "version": 3
   },
   "file_extension": ".py",
   "mimetype": "text/x-python",
   "name": "python",
   "nbconvert_exporter": "python",
   "pygments_lexer": "ipython3",
   "version": "3.11.9"
  }
 },
 "nbformat": 4,
 "nbformat_minor": 2
}
